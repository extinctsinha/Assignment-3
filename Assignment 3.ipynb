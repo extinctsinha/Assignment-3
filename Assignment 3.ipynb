{
 "cells": [
  {
   "cell_type": "code",
   "execution_count": 1,
   "id": "095e5fde",
   "metadata": {},
   "outputs": [],
   "source": [
    "#Question 1"
   ]
  },
  {
   "cell_type": "code",
   "execution_count": 2,
   "id": "b095404b",
   "metadata": {},
   "outputs": [
    {
     "name": "stdout",
     "output_type": "stream",
     "text": [
      "20\n"
     ]
    }
   ],
   "source": [
    "def sum(number_of_list):\n",
    "    Total_sum = 0\n",
    "    for x in number_of_list:\n",
    "        Total_sum += x\n",
    "    return Total_sum\n",
    "\n",
    "print(sum((8,2,3,0,7)))"
   ]
  },
  {
   "cell_type": "code",
   "execution_count": 3,
   "id": "555e6fac",
   "metadata": {},
   "outputs": [],
   "source": [
    "#Question 2"
   ]
  },
  {
   "cell_type": "code",
   "execution_count": 4,
   "id": "0313bcd7",
   "metadata": {},
   "outputs": [
    {
     "data": {
      "text/plain": [
       "'dcba4321'"
      ]
     },
     "execution_count": 4,
     "metadata": {},
     "output_type": "execute_result"
    }
   ],
   "source": [
    "def reverse (string):\n",
    "    if len(string)==0:\n",
    "        return string\n",
    "    else:\n",
    "        return reverse(string[1:]) + string[0]\n",
    "    \n",
    "reverse(\"1234abcd\")"
   ]
  },
  {
   "cell_type": "code",
   "execution_count": 5,
   "id": "598d7889",
   "metadata": {},
   "outputs": [],
   "source": [
    "#Question 3"
   ]
  },
  {
   "cell_type": "code",
   "execution_count": 6,
   "id": "100fd0c9",
   "metadata": {},
   "outputs": [
    {
     "name": "stdout",
     "output_type": "stream",
     "text": [
      "Enter any string:\tThe quick Brow Fox\n",
      "The number of uppercase characters is:\n",
      "3\n",
      "The number of lowercase character is:\n",
      "12\n"
     ]
    }
   ],
   "source": [
    "sentence = input(\"Enter any string:\\t\")\n",
    "count_lower = 0\n",
    "count_upper = 0\n",
    "for i in sentence:\n",
    "    if(i.islower()):\n",
    "        count_lower = count_lower+1\n",
    "    elif(i.isupper()):\n",
    "        count_upper = count_upper+1\n",
    "        \n",
    "print(\"The number of uppercase characters is:\")\n",
    "print(count_upper)\n",
    "print(\"The number of lowercase character is:\")\n",
    "print(count_lower)"
   ]
  },
  {
   "cell_type": "code",
   "execution_count": null,
   "id": "6e0226c3",
   "metadata": {},
   "outputs": [],
   "source": []
  }
 ],
 "metadata": {
  "kernelspec": {
   "display_name": "Python 3",
   "language": "python",
   "name": "python3"
  },
  "language_info": {
   "codemirror_mode": {
    "name": "ipython",
    "version": 3
   },
   "file_extension": ".py",
   "mimetype": "text/x-python",
   "name": "python",
   "nbconvert_exporter": "python",
   "pygments_lexer": "ipython3",
   "version": "3.8.8"
  }
 },
 "nbformat": 4,
 "nbformat_minor": 5
}
